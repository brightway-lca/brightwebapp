{
 "cells": [
  {
   "cell_type": "markdown",
   "id": "b9837f16-f9ca-4bf7-8435-7148f1fda1bf",
   "metadata": {},
   "source": [
    "# Inventory data from spreadsheets"
   ]
  },
  {
   "cell_type": "code",
   "execution_count": null,
   "id": "b8d8c15a-c5be-4feb-a7ab-17005d67b001",
   "metadata": {},
   "outputs": [],
   "source": [
    "import bw2data as bd\n",
    "import bw2io as bi\n",
    "import bw2calc as bc"
   ]
  },
  {
   "cell_type": "code",
   "execution_count": null,
   "id": "c8dd53ba-4365-4beb-a3ed-afe28ed956b3",
   "metadata": {},
   "outputs": [],
   "source": [
    "bd.projects.set_current(\"spreadsheet\")"
   ]
  },
  {
   "cell_type": "code",
   "execution_count": null,
   "id": "891613f8-b235-4cce-8036-ec2ccb06a93e",
   "metadata": {},
   "outputs": [],
   "source": [
    "bi.create_core_migrations()"
   ]
  },
  {
   "cell_type": "code",
   "execution_count": null,
   "id": "861c6920-0ef0-47db-a080-e07701376628",
   "metadata": {},
   "outputs": [],
   "source": [
    "xl_importer = bi.ExcelImporter(\"lci-bike.xlsx\")"
   ]
  },
  {
   "cell_type": "code",
   "execution_count": null,
   "id": "d879b166-541b-432d-8380-0d15785f062a",
   "metadata": {},
   "outputs": [],
   "source": [
    "xl_importer.apply_strategies()"
   ]
  },
  {
   "cell_type": "code",
   "execution_count": null,
   "id": "666e8bcd-f333-495d-ac84-83acd4eda4ff",
   "metadata": {},
   "outputs": [],
   "source": [
    "xl_importer.statistics()"
   ]
  },
  {
   "cell_type": "code",
   "execution_count": null,
   "id": "7b8b5f6e-1a26-4d9f-b93d-6fbd2e06faf8",
   "metadata": {},
   "outputs": [],
   "source": [
    "for obj in xl_importer.unlinked:\n",
    "    print(obj)"
   ]
  },
  {
   "cell_type": "code",
   "execution_count": null,
   "id": "00b24aac-a774-4ebb-8069-0ee178b0a248",
   "metadata": {},
   "outputs": [],
   "source": [
    "xl_importer.match_database(fields=['name'])\n",
    "xl_importer.statistics()"
   ]
  },
  {
   "cell_type": "code",
   "execution_count": null,
   "id": "f37b3264-0014-41a2-9971-231542d6b98f",
   "metadata": {},
   "outputs": [],
   "source": [
    "xl_importer.write_database()"
   ]
  },
  {
   "cell_type": "code",
   "execution_count": null,
   "id": "806bc263-d6f3-4190-a8d0-0785ad1e5444",
   "metadata": {},
   "outputs": [],
   "source": [
    "bd.databases"
   ]
  }
 ],
 "metadata": {
  "kernelspec": {
   "display_name": "Python 3 (ipykernel)",
   "language": "python",
   "name": "python3"
  },
  "language_info": {
   "codemirror_mode": {
    "name": "ipython",
    "version": 3
   },
   "file_extension": ".py",
   "mimetype": "text/x-python",
   "name": "python",
   "nbconvert_exporter": "python",
   "pygments_lexer": "ipython3",
   "version": "3.10.10"
  }
 },
 "nbformat": 4,
 "nbformat_minor": 5
}
