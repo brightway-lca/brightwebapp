{
 "cells": [
  {
   "cell_type": "code",
   "execution_count": 1,
   "id": "4bce7555-2e88-4398-bf2c-5ea1a34290c9",
   "metadata": {},
   "outputs": [
    {
     "name": "stderr",
     "output_type": "stream",
     "text": [
      "/Users/michaelweinold/github/brightwebapp/.venvbwa/lib/python3.13/site-packages/bw2calc/__init__.py:50: UserWarning: \n",
      "It seems like you have an ARM architecture, but haven't installed scikit-umfpack:\n",
      "\n",
      "    https://pypi.org/project/scikit-umfpack/\n",
      "\n",
      "Installing it could give you much faster calculations.\n",
      "\n",
      "  warnings.warn(UMFPACK_WARNING)\n"
     ]
    }
   ],
   "source": [
    "import bw2data as bd\n",
    "import bw2calc as bc\n",
    "import bw2analyzer as ba"
   ]
  },
  {
   "cell_type": "code",
   "execution_count": 27,
   "id": "e0595062",
   "metadata": {},
   "outputs": [],
   "source": [
    "bd.projects.set_current(\"test\")"
   ]
  },
  {
   "cell_type": "code",
   "execution_count": 26,
   "id": "f19dd3d1",
   "metadata": {},
   "outputs": [
    {
     "data": {
      "text/plain": [
       "'USEEIO-1.1'"
      ]
     },
     "execution_count": 26,
     "metadata": {},
     "output_type": "execute_result"
    }
   ],
   "source": [
    "bd.projects.delete_project(name='test', delete_dir=True or False)"
   ]
  },
  {
   "cell_type": "code",
   "execution_count": 28,
   "id": "48ec4441",
   "metadata": {},
   "outputs": [
    {
     "data": {
      "text/plain": [
       "Brightway2 projects manager with 6 objects:\n",
       "\tUSEEIO-1.1\n",
       "\tdev\n",
       "\tei_3_10\n",
       "\tfixture\n",
       "\tsupply chain graph\n",
       "\ttest\n",
       "Use `projects.report()` to get a report on all projects."
      ]
     },
     "execution_count": 28,
     "metadata": {},
     "output_type": "execute_result"
    }
   ],
   "source": [
    "bd.projects"
   ]
  },
  {
   "cell_type": "code",
   "execution_count": 29,
   "id": "a8597c2f",
   "metadata": {},
   "outputs": [
    {
     "data": {
      "text/plain": [
       "Databases dictionary with 0 objects"
      ]
     },
     "execution_count": 29,
     "metadata": {},
     "output_type": "execute_result"
    }
   ],
   "source": [
    "bd.databases"
   ]
  },
  {
   "cell_type": "code",
   "execution_count": 30,
   "id": "dc194a30-4a35-4c01-9d20-57b34ce36e89",
   "metadata": {},
   "outputs": [
    {
     "ename": "KeyError",
     "evalue": "",
     "output_type": "error",
     "traceback": [
      "\u001b[31m---------------------------------------------------------------------------\u001b[39m",
      "\u001b[31mKeyError\u001b[39m                                  Traceback (most recent call last)",
      "\u001b[36mCell\u001b[39m\u001b[36m \u001b[39m\u001b[32mIn[30]\u001b[39m\u001b[32m, line 1\u001b[39m\n\u001b[32m----> \u001b[39m\u001b[32m1\u001b[39m \u001b[38;5;28;01mdel\u001b[39;00m \u001b[43mbd\u001b[49m\u001b[43m.\u001b[49m\u001b[43mdatabases\u001b[49m\u001b[43m[\u001b[49m\u001b[33;43m\"\u001b[39;49m\u001b[33;43msteel bike\u001b[39;49m\u001b[33;43m\"\u001b[39;49m\u001b[43m]\u001b[49m\n",
      "\u001b[36mFile \u001b[39m\u001b[32m~/github/brightwebapp/.venvbwa/lib/python3.13/site-packages/bw2data/meta.py:109\u001b[39m, in \u001b[36mDatabases.__delitem__\u001b[39m\u001b[34m(self, name, signal)\u001b[39m\n\u001b[32m    106\u001b[39m \u001b[38;5;28;01mfrom\u001b[39;00m\u001b[38;5;250m \u001b[39m\u001b[34;01mbw2data\u001b[39;00m\u001b[38;5;250m \u001b[39m\u001b[38;5;28;01mimport\u001b[39;00m Database\n\u001b[32m    108\u001b[39m \u001b[38;5;28;01mif\u001b[39;00m name \u001b[38;5;129;01mnot\u001b[39;00m \u001b[38;5;129;01min\u001b[39;00m \u001b[38;5;28mself\u001b[39m:\n\u001b[32m--> \u001b[39m\u001b[32m109\u001b[39m     \u001b[38;5;28;01mraise\u001b[39;00m \u001b[38;5;167;01mKeyError\u001b[39;00m\n\u001b[32m    111\u001b[39m \u001b[38;5;28;01mtry\u001b[39;00m:\n\u001b[32m    112\u001b[39m     Database(name).delete(warn=\u001b[38;5;28;01mFalse\u001b[39;00m, signal=\u001b[38;5;28;01mFalse\u001b[39;00m)\n",
      "\u001b[31mKeyError\u001b[39m: "
     ]
    }
   ],
   "source": [
    "del bd.databases[\"steel bike\"]"
   ]
  },
  {
   "cell_type": "code",
   "execution_count": 31,
   "id": "c60fc1f9-2639-43ea-8427-36fe46596893",
   "metadata": {},
   "outputs": [],
   "source": [
    "sb = bd.Database(\"steel bike\")\n",
    "sb.register()"
   ]
  },
  {
   "cell_type": "code",
   "execution_count": 32,
   "id": "b1c0d76b-37bb-43dd-b9bb-09ca50f7b0ea",
   "metadata": {},
   "outputs": [],
   "source": [
    "coal = sb.new_node(name=\"Coal\", unit=\"kg\", code=\"coal\")\n",
    "steel = sb.new_node(name=\"Steel\", unit=\"kg\", code=\"steel\")\n",
    "iron_mining = sb.new_node(name=\"Iron mining\", unit=\"kg\", code=\"im\")\n",
    "iron_ore = sb.new_node(name=\"Iron ore\", unit=\"kg\", code=\"io\", type=\"emission\")\n",
    "steel_bike = sb.new_node(name=\"Steel bike\", unit=\"unit\", code=\"sb\")"
   ]
  },
  {
   "cell_type": "code",
   "execution_count": 33,
   "id": "016783b2-3063-4ca3-b92e-7f21aaeb9b55",
   "metadata": {},
   "outputs": [],
   "source": [
    "coal.save()\n",
    "steel.save()\n",
    "iron_mining.save()\n",
    "iron_ore.save()\n",
    "steel_bike.save()"
   ]
  },
  {
   "cell_type": "code",
   "execution_count": 34,
   "id": "bbd8ff6d-7ff7-4f52-b72e-b3e56ed22397",
   "metadata": {},
   "outputs": [],
   "source": [
    "iron_mining.new_edge(\n",
    "    input=iron_ore,\n",
    "    amount=1.25, \n",
    "    uncertainty_type=5, \n",
    "    minimum=1,\n",
    "    maximum=1.75, \n",
    "    type='biosphere',\n",
    ").save()"
   ]
  },
  {
   "cell_type": "code",
   "execution_count": 35,
   "id": "ea99ec9a-99ad-427f-bcbd-a7494732aacf",
   "metadata": {},
   "outputs": [],
   "source": [
    "steel.new_edge(\n",
    "    input=iron_mining,\n",
    "    amount=1.1, \n",
    "    uncertainty_type=5, \n",
    "    minimum=1,\n",
    "    maximum=1.25, \n",
    "    type='technosphere',\n",
    ").save()"
   ]
  },
  {
   "cell_type": "code",
   "execution_count": 36,
   "id": "24c41aef-d4e9-4d97-8bf3-a7b9af173526",
   "metadata": {},
   "outputs": [],
   "source": [
    "steel.new_edge(\n",
    "    input=coal,\n",
    "    amount=0.2, \n",
    "    uncertainty_type=5, \n",
    "    minimum=0.1,\n",
    "    maximum=0.5, \n",
    "    type='technosphere',\n",
    ").save()"
   ]
  },
  {
   "cell_type": "code",
   "execution_count": 37,
   "id": "18c94e57-d8a4-4e99-b548-b2691c0e8d83",
   "metadata": {},
   "outputs": [],
   "source": [
    "steel_bike.new_edge(\n",
    "    input=steel,\n",
    "    amount=8, \n",
    "    uncertainty_type=5, \n",
    "    minimum=4,\n",
    "    maximum=15, \n",
    "    type='technosphere',\n",
    ").save()"
   ]
  },
  {
   "cell_type": "code",
   "execution_count": 43,
   "id": "ca8b66f1-3240-485e-b05e-b3238c2eb6ce",
   "metadata": {},
   "outputs": [],
   "source": [
    "iron_mining.new_edge(\n",
    "    input=steel_bike,\n",
    "    amount=0.001, \n",
    "    type='technosphere',\n",
    ").save()"
   ]
  },
  {
   "cell_type": "code",
   "execution_count": 50,
   "id": "266cb09f",
   "metadata": {},
   "outputs": [
    {
     "data": {
      "text/plain": [
       "[Exchange: 8 kg 'Steel' (kg, GLO, None) to 'Steel bike' (unit, GLO, None)>]"
      ]
     },
     "execution_count": 50,
     "metadata": {},
     "output_type": "execute_result"
    }
   ],
   "source": [
    "[e for e in bd.get_node(code='sb').edges()]"
   ]
  },
  {
   "cell_type": "markdown",
   "id": "a0a676e5",
   "metadata": {},
   "source": [
    "coal.new_edge(\n",
    "    input=steel_bike,\n",
    "    amount=0.001, \n",
    "    type='technosphere',\n",
    ").save()\n",
    "steel.new_edge(\n",
    "    input=steel_bike,\n",
    "    amount=0.005, \n",
    "    type='technosphere',\n",
    ").save()"
   ]
  },
  {
   "cell_type": "code",
   "execution_count": 42,
   "id": "703400f9",
   "metadata": {},
   "outputs": [
    {
     "data": {
      "text/plain": [
       "[{'database': 'steel bike',\n",
       "  'code': 'sb',\n",
       "  'location': 'GLO',\n",
       "  'name': 'Steel bike',\n",
       "  'unit': 'unit',\n",
       "  'id': 169633624360030208},\n",
       " {'database': 'steel bike',\n",
       "  'code': 'im',\n",
       "  'location': 'GLO',\n",
       "  'name': 'Iron mining',\n",
       "  'unit': 'kg',\n",
       "  'id': 169633624334864384},\n",
       " {'database': 'steel bike',\n",
       "  'code': 'coal',\n",
       "  'location': 'GLO',\n",
       "  'name': 'Coal',\n",
       "  'unit': 'kg',\n",
       "  'id': 169633624297115648},\n",
       " {'database': 'steel bike',\n",
       "  'code': 'steel',\n",
       "  'location': 'GLO',\n",
       "  'name': 'Steel',\n",
       "  'unit': 'kg',\n",
       "  'id': 169633624322281472},\n",
       " {'database': 'steel bike',\n",
       "  'code': 'io',\n",
       "  'location': 'GLO',\n",
       "  'name': 'Iron ore',\n",
       "  'unit': 'kg',\n",
       "  'type': 'emission',\n",
       "  'id': 169633624347447296}]"
      ]
     },
     "execution_count": 42,
     "metadata": {},
     "output_type": "execute_result"
    }
   ],
   "source": [
    "[i.as_dict() for i in bd.Database(\"steel bike\")]"
   ]
  },
  {
   "cell_type": "code",
   "execution_count": 38,
   "id": "80be6081-ce89-4ff8-a137-2ae853ffe0b1",
   "metadata": {},
   "outputs": [],
   "source": [
    "bd.Method((\"resources\",)).write([\n",
    "    (iron_ore.key, {'amount': 3.141, 'uncertainty_type': 3, 'loc': 3.141, 'scale': 0.5926535}),\n",
    "])"
   ]
  },
  {
   "cell_type": "code",
   "execution_count": 44,
   "id": "366cbc0f-9977-4165-a0cd-172d4f99fcd5",
   "metadata": {},
   "outputs": [
    {
     "ename": "NonsquareTechnosphere",
     "evalue": "Technosphere matrix is not square: 3 activities (columns) and 4 products (rows). Use LeastSquaresLCA to solve this system, or fix the input data",
     "output_type": "error",
     "traceback": [
      "\u001b[31m---------------------------------------------------------------------------\u001b[39m",
      "\u001b[31mNonsquareTechnosphere\u001b[39m                     Traceback (most recent call last)",
      "\u001b[36mCell\u001b[39m\u001b[36m \u001b[39m\u001b[32mIn[44]\u001b[39m\u001b[32m, line 2\u001b[39m\n\u001b[32m      1\u001b[39m lca = bc.LCA({steel_bike: \u001b[32m1\u001b[39m}, (\u001b[33m\"\u001b[39m\u001b[33mresources\u001b[39m\u001b[33m\"\u001b[39m,))\n\u001b[32m----> \u001b[39m\u001b[32m2\u001b[39m \u001b[43mlca\u001b[49m\u001b[43m.\u001b[49m\u001b[43mlci\u001b[49m\u001b[43m(\u001b[49m\u001b[43m)\u001b[49m\n\u001b[32m      3\u001b[39m lca.lcia()\n",
      "\u001b[36mFile \u001b[39m\u001b[32m~/github/brightwebapp/.venvbwa/lib/python3.13/site-packages/bw2calc/lca_base.py:180\u001b[39m, in \u001b[36mLCABase.lci\u001b[39m\u001b[34m(self, demand, factorize)\u001b[39m\n\u001b[32m    156\u001b[39m \u001b[38;5;250m\u001b[39m\u001b[33;03m\"\"\"\u001b[39;00m\n\u001b[32m    157\u001b[39m \u001b[33;03mCalculate a life cycle inventory.\u001b[39;00m\n\u001b[32m    158\u001b[39m \n\u001b[32m   (...)\u001b[39m\u001b[32m    177\u001b[39m \n\u001b[32m    178\u001b[39m \u001b[33;03m\"\"\"\u001b[39;00m\n\u001b[32m    179\u001b[39m \u001b[38;5;28;01mif\u001b[39;00m \u001b[38;5;129;01mnot\u001b[39;00m \u001b[38;5;28mhasattr\u001b[39m(\u001b[38;5;28mself\u001b[39m, \u001b[33m\"\u001b[39m\u001b[33mtechnosphere_matrix\u001b[39m\u001b[33m\"\u001b[39m):\n\u001b[32m--> \u001b[39m\u001b[32m180\u001b[39m     \u001b[38;5;28;43mself\u001b[39;49m\u001b[43m.\u001b[49m\u001b[43mload_lci_data\u001b[49m\u001b[43m(\u001b[49m\u001b[43m)\u001b[49m\n\u001b[32m    181\u001b[39m \u001b[38;5;28;01mif\u001b[39;00m demand \u001b[38;5;129;01mis\u001b[39;00m \u001b[38;5;129;01mnot\u001b[39;00m \u001b[38;5;28;01mNone\u001b[39;00m:\n\u001b[32m    182\u001b[39m     \u001b[38;5;28mself\u001b[39m.check_demand(demand)\n",
      "\u001b[36mFile \u001b[39m\u001b[32m~/github/brightwebapp/.venvbwa/lib/python3.13/site-packages/bw2calc/lca_base.py:61\u001b[39m, in \u001b[36mLCABase.load_lci_data\u001b[39m\u001b[34m(self, nonsquare_ok)\u001b[39m\n\u001b[32m     55\u001b[39m     \u001b[38;5;28mself\u001b[39m.technosphere_matrix = \u001b[38;5;28mself\u001b[39m.technosphere_matrix.tocsr()\n\u001b[32m     57\u001b[39m \u001b[38;5;28;01mif\u001b[39;00m (\n\u001b[32m     58\u001b[39m     \u001b[38;5;28mlen\u001b[39m(\u001b[38;5;28mself\u001b[39m.technosphere_mm.row_mapper) != \u001b[38;5;28mlen\u001b[39m(\u001b[38;5;28mself\u001b[39m.technosphere_mm.col_mapper)\n\u001b[32m     59\u001b[39m     \u001b[38;5;129;01mand\u001b[39;00m \u001b[38;5;129;01mnot\u001b[39;00m nonsquare_ok\n\u001b[32m     60\u001b[39m ):\n\u001b[32m---> \u001b[39m\u001b[32m61\u001b[39m     \u001b[38;5;28;01mraise\u001b[39;00m NonsquareTechnosphere(\n\u001b[32m     62\u001b[39m         (\n\u001b[32m     63\u001b[39m             \u001b[33m\"\u001b[39m\u001b[33mTechnosphere matrix is not square: \u001b[39m\u001b[38;5;132;01m{}\u001b[39;00m\u001b[33m activities \u001b[39m\u001b[33m\"\u001b[39m\n\u001b[32m     64\u001b[39m             \u001b[33m\"\u001b[39m\u001b[33m(columns) and \u001b[39m\u001b[38;5;132;01m{}\u001b[39;00m\u001b[33m products (rows). Use LeastSquaresLCA to \u001b[39m\u001b[33m\"\u001b[39m\n\u001b[32m     65\u001b[39m             \u001b[33m\"\u001b[39m\u001b[33msolve this system, or fix the input data\u001b[39m\u001b[33m\"\u001b[39m\n\u001b[32m     66\u001b[39m         ).format(\n\u001b[32m     67\u001b[39m             \u001b[38;5;28mlen\u001b[39m(\u001b[38;5;28mself\u001b[39m.technosphere_mm.col_mapper),\n\u001b[32m     68\u001b[39m             \u001b[38;5;28mlen\u001b[39m(\u001b[38;5;28mself\u001b[39m.technosphere_mm.row_mapper),\n\u001b[32m     69\u001b[39m         )\n\u001b[32m     70\u001b[39m     )\n\u001b[32m     72\u001b[39m use_arrays, use_distributions = \u001b[38;5;28mself\u001b[39m.check_selective_use(\u001b[33m\"\u001b[39m\u001b[33mbiosphere_matrix\u001b[39m\u001b[33m\"\u001b[39m)\n\u001b[32m     74\u001b[39m \u001b[38;5;28mself\u001b[39m.biosphere_mm = mu.MappedMatrix(\n\u001b[32m     75\u001b[39m     packages=\u001b[38;5;28mself\u001b[39m.packages,\n\u001b[32m     76\u001b[39m     matrix=\u001b[33m\"\u001b[39m\u001b[33mbiosphere_matrix\u001b[39m\u001b[33m\"\u001b[39m,\n\u001b[32m   (...)\u001b[39m\u001b[32m     81\u001b[39m     empty_ok=\u001b[38;5;28;01mTrue\u001b[39;00m,\n\u001b[32m     82\u001b[39m )\n",
      "\u001b[31mNonsquareTechnosphere\u001b[39m: Technosphere matrix is not square: 3 activities (columns) and 4 products (rows). Use LeastSquaresLCA to solve this system, or fix the input data"
     ]
    }
   ],
   "source": [
    "lca = bc.LCA({steel_bike: 1}, (\"resources\",))\n",
    "lca.lci()\n",
    "lca.lcia()"
   ]
  },
  {
   "cell_type": "code",
   "execution_count": 16,
   "id": "fd26f71a-b205-4bbc-b579-eae613dbb956",
   "metadata": {},
   "outputs": [
    {
     "data": {
      "text/plain": [
       "matrix([[0.  , 0.  , 1.25, 0.  ]])"
      ]
     },
     "execution_count": 16,
     "metadata": {},
     "output_type": "execute_result"
    }
   ],
   "source": [
    "lca.biosphere_matrix.todense()"
   ]
  }
 ],
 "metadata": {
  "kernelspec": {
   "display_name": ".venvbwa",
   "language": "python",
   "name": "python3"
  },
  "language_info": {
   "codemirror_mode": {
    "name": "ipython",
    "version": 3
   },
   "file_extension": ".py",
   "mimetype": "text/x-python",
   "name": "python",
   "nbconvert_exporter": "python",
   "pygments_lexer": "ipython3",
   "version": "3.13.2"
  }
 },
 "nbformat": 4,
 "nbformat_minor": 5
}
